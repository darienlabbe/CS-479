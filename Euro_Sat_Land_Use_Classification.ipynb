version https://git-lfs.github.com/spec/v1
oid sha256:2932e68abd580e1fd4dd63f23bca5bf3d920734ff4848052dafa3663c67a8fc6
size 820954
